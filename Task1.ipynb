{
  "nbformat": 4,
  "nbformat_minor": 0,
  "metadata": {
    "colab": {
      "provenance": []
    },
    "kernelspec": {
      "name": "python3",
      "display_name": "Python 3"
    },
    "language_info": {
      "name": "python"
    }
  },
  "cells": [
    {
      "cell_type": "code",
      "execution_count": 1,
      "metadata": {
        "colab": {
          "base_uri": "https://localhost:8080/"
        },
        "id": "8AwSbE8TQHcz",
        "outputId": "f8f521d6-b93e-4246-8974-224a3d8c6142"
      },
      "outputs": [
        {
          "output_type": "stream",
          "name": "stdout",
          "text": [
            "Original List: [1, 2, 3, 4, 5]\n"
          ]
        }
      ],
      "source": [
        "# Creating a list\n",
        "my_list = [1, 2, 3, 4, 5]\n",
        "print(\"Original List:\", my_list)"
      ]
    },
    {
      "cell_type": "code",
      "source": [
        "# Adding an element to the list\n",
        "my_list.append(6)\n",
        "print(\"List after adding an element:\", my_list)"
      ],
      "metadata": {
        "colab": {
          "base_uri": "https://localhost:8080/"
        },
        "id": "ziF-jpd9QTXc",
        "outputId": "c27d1d66-f4ef-4308-f098-a2f4c435d4b1"
      },
      "execution_count": 2,
      "outputs": [
        {
          "output_type": "stream",
          "name": "stdout",
          "text": [
            "List after adding an element: [1, 2, 3, 4, 5, 6]\n"
          ]
        }
      ]
    },
    {
      "cell_type": "code",
      "source": [
        "# Removing an element from the list\n",
        "my_list.remove(2)\n",
        "print(\"List after removing an element:\", my_list)"
      ],
      "metadata": {
        "colab": {
          "base_uri": "https://localhost:8080/"
        },
        "id": "FhwI1xSsQ4Q6",
        "outputId": "0a6cf95e-c7e0-4f12-f46b-da62a7f470f6"
      },
      "execution_count": 3,
      "outputs": [
        {
          "output_type": "stream",
          "name": "stdout",
          "text": [
            "List after removing an element: [1, 3, 4, 5, 6]\n"
          ]
        }
      ]
    },
    {
      "cell_type": "code",
      "source": [
        "# Modifying an element in the list\n",
        "my_list[2] = 10\n",
        "print(\"List after modifying an element:\", my_list)"
      ],
      "metadata": {
        "colab": {
          "base_uri": "https://localhost:8080/"
        },
        "id": "zaHbV5CoQ9FE",
        "outputId": "4c436457-dba2-4d2e-fca1-ba7ce8a98667"
      },
      "execution_count": 4,
      "outputs": [
        {
          "output_type": "stream",
          "name": "stdout",
          "text": [
            "List after modifying an element: [1, 3, 10, 5, 6]\n"
          ]
        }
      ]
    },
    {
      "cell_type": "code",
      "source": [
        "# Creating a dictionary\n",
        "my_dict = {'a': 1, 'b': 2, 'c': 3}\n",
        "print(\"\\nOriginal Dictionary:\", my_dict)\n"
      ],
      "metadata": {
        "colab": {
          "base_uri": "https://localhost:8080/"
        },
        "id": "zee09hsrRBBb",
        "outputId": "a08a8fc1-6886-428c-f651-e5c1967b5480"
      },
      "execution_count": 5,
      "outputs": [
        {
          "output_type": "stream",
          "name": "stdout",
          "text": [
            "\n",
            "Original Dictionary: {'a': 1, 'b': 2, 'c': 3}\n"
          ]
        }
      ]
    },
    {
      "cell_type": "code",
      "source": [
        "# Adding a key-value pair to the dictionary\n",
        "my_dict['d'] = 4\n",
        "print(\"Dictionary after adding a key-value pair:\", my_dict)"
      ],
      "metadata": {
        "colab": {
          "base_uri": "https://localhost:8080/"
        },
        "id": "eR6emUgMRHez",
        "outputId": "d67ec738-ee51-4901-ed25-8fc55c95fecc"
      },
      "execution_count": 6,
      "outputs": [
        {
          "output_type": "stream",
          "name": "stdout",
          "text": [
            "Dictionary after adding a key-value pair: {'a': 1, 'b': 2, 'c': 3, 'd': 4}\n"
          ]
        }
      ]
    },
    {
      "cell_type": "code",
      "source": [
        "# Removing a key-value pair from the dictionary\n",
        "del my_dict['b']\n",
        "print(\"Dictionary after removing a key-value pair:\", my_dict)"
      ],
      "metadata": {
        "colab": {
          "base_uri": "https://localhost:8080/"
        },
        "id": "on9ywaBwRLPB",
        "outputId": "b5b05b7c-07a7-4f6c-b025-256fc8f655ff"
      },
      "execution_count": 7,
      "outputs": [
        {
          "output_type": "stream",
          "name": "stdout",
          "text": [
            "Dictionary after removing a key-value pair: {'a': 1, 'c': 3, 'd': 4}\n"
          ]
        }
      ]
    },
    {
      "cell_type": "code",
      "source": [
        "# Modifying a value in the dictionary\n",
        "my_dict['c'] = 30\n",
        "print(\"Dictionary after modifying a value:\", my_dict)"
      ],
      "metadata": {
        "colab": {
          "base_uri": "https://localhost:8080/"
        },
        "id": "fNtc96WNROdq",
        "outputId": "53ef31c4-8b09-494a-929c-2ac131ac5698"
      },
      "execution_count": 8,
      "outputs": [
        {
          "output_type": "stream",
          "name": "stdout",
          "text": [
            "Dictionary after modifying a value: {'a': 1, 'c': 30, 'd': 4}\n"
          ]
        }
      ]
    },
    {
      "cell_type": "code",
      "source": [
        "# Creating a set\n",
        "my_set = {1, 2, 3, 4, 5}\n",
        "print(\"\\nOriginal Set:\", my_set)"
      ],
      "metadata": {
        "colab": {
          "base_uri": "https://localhost:8080/"
        },
        "id": "PsXsxFiLRSWE",
        "outputId": "f825396f-a293-43f1-bf75-c75be66447df"
      },
      "execution_count": 9,
      "outputs": [
        {
          "output_type": "stream",
          "name": "stdout",
          "text": [
            "\n",
            "Original Set: {1, 2, 3, 4, 5}\n"
          ]
        }
      ]
    },
    {
      "cell_type": "code",
      "source": [
        "# Adding an element to the set\n",
        "my_set.add(6)\n",
        "print(\"Set after adding an element:\", my_set)"
      ],
      "metadata": {
        "colab": {
          "base_uri": "https://localhost:8080/"
        },
        "id": "Qs6z3TBfRVvC",
        "outputId": "f7f848a4-87c9-416f-d039-b5f6c792501a"
      },
      "execution_count": 10,
      "outputs": [
        {
          "output_type": "stream",
          "name": "stdout",
          "text": [
            "Set after adding an element: {1, 2, 3, 4, 5, 6}\n"
          ]
        }
      ]
    },
    {
      "cell_type": "code",
      "source": [
        "# Removing an element from the set\n",
        "my_set.remove(2)\n",
        "print(\"Set after removing an element:\", my_set)"
      ],
      "metadata": {
        "colab": {
          "base_uri": "https://localhost:8080/"
        },
        "id": "5isNLbfcRWvH",
        "outputId": "0dd4cdd0-d76e-437b-ab6f-54832f6021d5"
      },
      "execution_count": 11,
      "outputs": [
        {
          "output_type": "stream",
          "name": "stdout",
          "text": [
            "Set after removing an element: {1, 3, 4, 5, 6}\n"
          ]
        }
      ]
    },
    {
      "cell_type": "code",
      "source": [
        "# remove and add a modified value\n",
        "my_set.remove(3)\n",
        "my_set.add(30)\n",
        "print(\"Set after modifying an element (by removing and adding):\", my_set)"
      ],
      "metadata": {
        "colab": {
          "base_uri": "https://localhost:8080/"
        },
        "id": "mrDc6M3tReaa",
        "outputId": "8c10238f-30bd-48fe-db93-6240e9403217"
      },
      "execution_count": 12,
      "outputs": [
        {
          "output_type": "stream",
          "name": "stdout",
          "text": [
            "Set after modifying an element (by removing and adding): {1, 4, 5, 6, 30}\n"
          ]
        }
      ]
    }
  ]
}